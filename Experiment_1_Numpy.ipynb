{
  "nbformat": 4,
  "nbformat_minor": 0,
  "metadata": {
    "colab": {
      "name": "Experiment 1 Numpy.ipynb",
      "provenance": [],
      "authorship_tag": "ABX9TyOFEZyhQSATKX7m4fUXH6Jp",
      "include_colab_link": true
    },
    "kernelspec": {
      "name": "python3",
      "display_name": "Python 3"
    }
  },
  "cells": [
    {
      "cell_type": "markdown",
      "metadata": {
        "id": "view-in-github",
        "colab_type": "text"
      },
      "source": [
        "<a href=\"https://colab.research.google.com/github/19PA1A02A3/AI-Lab/blob/master/Experiment_1_Numpy.ipynb\" target=\"_parent\"><img src=\"https://colab.research.google.com/assets/colab-badge.svg\" alt=\"Open In Colab\"/></a>"
      ]
    },
    {
      "cell_type": "markdown",
      "metadata": {
        "id": "ILZ0BgoqtGOT",
        "colab_type": "text"
      },
      "source": [
        "#Experiment 1 Numpy"
      ]
    },
    {
      "cell_type": "markdown",
      "metadata": {
        "id": "HC8h7YW9tOE5",
        "colab_type": "text"
      },
      "source": [
        "## Different ways to create Numpy arrays"
      ]
    },
    {
      "cell_type": "markdown",
      "metadata": {
        "id": "MX4WeyGwuXDD",
        "colab_type": "text"
      },
      "source": [
        "###i)Creat a numpy array using list"
      ]
    },
    {
      "cell_type": "code",
      "metadata": {
        "id": "V4Be-t_8tsuk",
        "colab_type": "code",
        "colab": {
          "base_uri": "https://localhost:8080/",
          "height": 34
        },
        "outputId": "7b88f3d2-6a8c-4976-ab85-6349ef125ded"
      },
      "source": [
        " import numpy as np \n",
        "p=np.array([1,8,9])\n",
        "print(p)"
      ],
      "execution_count": null,
      "outputs": [
        {
          "output_type": "stream",
          "text": [
            "[1 8 9]\n"
          ],
          "name": "stdout"
        }
      ]
    },
    {
      "cell_type": "markdown",
      "metadata": {
        "id": "sFJo4RPUuuAV",
        "colab_type": "text"
      },
      "source": [
        "ii)Add,Remove,Modify array elements add"
      ]
    },
    {
      "cell_type": "markdown",
      "metadata": {
        "id": "S_qbFVlaxE7G",
        "colab_type": "text"
      },
      "source": [
        "Add"
      ]
    },
    {
      "cell_type": "code",
      "metadata": {
        "id": "cdnHO4c3u6in",
        "colab_type": "code",
        "colab": {
          "base_uri": "https://localhost:8080/",
          "height": 34
        },
        "outputId": "ee6a0fa5-9cc5-4939-a339-72001414506c"
      },
      "source": [
        " f=np.array([4,1,9])\n",
        "q=np.append(f,[3,6,8])\n",
        "print(q)"
      ],
      "execution_count": null,
      "outputs": [
        {
          "output_type": "stream",
          "text": [
            "[4 1 9 3 6 8]\n"
          ],
          "name": "stdout"
        }
      ]
    },
    {
      "cell_type": "markdown",
      "metadata": {
        "id": "IR4MihUgxHVL",
        "colab_type": "text"
      },
      "source": [
        "Remove"
      ]
    },
    {
      "cell_type": "code",
      "metadata": {
        "id": "OBJJHWXdvMIm",
        "colab_type": "code",
        "colab": {
          "base_uri": "https://localhost:8080/",
          "height": 34
        },
        "outputId": "7a5d4fc1-d7cd-40f9-c432-8f8af8ac4f27"
      },
      "source": [
        " c=np.delete(f,2)\n",
        "print(c)"
      ],
      "execution_count": null,
      "outputs": [
        {
          "output_type": "stream",
          "text": [
            "[4 1]\n"
          ],
          "name": "stdout"
        }
      ]
    },
    {
      "cell_type": "markdown",
      "metadata": {
        "id": "2g99k4dNxI8u",
        "colab_type": "text"
      },
      "source": [
        "Modify"
      ]
    },
    {
      "cell_type": "code",
      "metadata": {
        "id": "N4M-l43yvWst",
        "colab_type": "code",
        "colab": {
          "base_uri": "https://localhost:8080/",
          "height": 34
        },
        "outputId": "f2baedca-7bc5-4eea-91f4-846f812166f0"
      },
      "source": [
        " c[c>3]=-1\n",
        "print(c)"
      ],
      "execution_count": null,
      "outputs": [
        {
          "output_type": "stream",
          "text": [
            "[-1  1]\n"
          ],
          "name": "stdout"
        }
      ]
    },
    {
      "cell_type": "markdown",
      "metadata": {
        "id": "HwJeLBm-vpAI",
        "colab_type": "text"
      },
      "source": [
        "### iii)Arthemetic operations on Numpy array"
      ]
    },
    {
      "cell_type": "code",
      "metadata": {
        "id": "dFsu8jPrvxAx",
        "colab_type": "code",
        "colab": {
          "base_uri": "https://localhost:8080/",
          "height": 717
        },
        "outputId": "00db62a6-f8b4-46b3-86df-9f5886b29309"
      },
      "source": [
        " import numpy as np \n",
        "l=np.random.random((5,5))\n",
        "m=np.random.random((5,5))\n",
        "num_sum=np.add(l,m)\n",
        "num_diff=np.subtract(l,m)\n",
        "num_prod=np.multiply(l,m)\n",
        "num_quo=np.divide(l,m)\n",
        "num_mod=np.mod(l,m)\n",
        "num_pow=np.power(l,m)\n",
        "print(num_sum)\n",
        "print(num_diff)\n",
        "print(num_prod)\n",
        "print(num_quo)\n",
        "print(num_mod)\n",
        "print(num_pow)"
      ],
      "execution_count": null,
      "outputs": [
        {
          "output_type": "stream",
          "text": [
            "[[0.99550793 1.05490516 1.06846531 1.45016286 0.74388415]\n",
            " [0.48906432 0.31312026 0.17293527 1.2723797  1.33321129]\n",
            " [0.52663351 0.69928647 1.09441792 1.54153458 1.11742523]\n",
            " [0.95568614 0.85401589 1.48635315 1.2242105  0.20280549]\n",
            " [0.52914143 1.6582799  1.24602729 1.1772339  1.03428612]]\n",
            "[[-0.39519792 -0.27206899 -0.3603967  -0.47964645  0.28215723]\n",
            " [ 0.42781025  0.11905707  0.01123526  0.56085989 -0.30518798]\n",
            " [ 0.18509436  0.05339761 -0.21422745 -0.26519182  0.32981914]\n",
            " [-0.70625507 -0.83794683  0.34401931  0.01364078 -0.06686492]\n",
            " [ 0.48108082 -0.23005218 -0.27434798 -0.74350262  0.25871644]]\n",
            "[[0.20871366 0.25970084 0.25293308 0.4682279  0.11843773]\n",
            " [0.01404057 0.02096743 0.00744509 0.32609657 0.42107816]\n",
            " [0.06077073 0.12153757 0.28796429 0.57650054 0.28496462]\n",
            " [0.10363495 0.00679706 0.5227241  0.37462632 0.00916479]\n",
            " [0.01213797 0.67424206 0.3693293  0.20827087 0.2507034 ]]\n",
            "[[4.31658505e-01 5.89940784e-01 4.95547232e-01 5.02907929e-01\n",
            "  2.22218232e+00]\n",
            " [1.49683861e+01 2.22699283e+00 1.13896423e+00 2.57651234e+00\n",
            "  6.27455915e-01]\n",
            " [2.08388369e+00 1.16534613e+00 6.72596629e-01 7.06439428e-01\n",
            "  1.83752307e+00]\n",
            " [1.50084177e-01 9.49728592e-03 1.60230958e+00 1.02253614e+00\n",
            "  5.04098942e-01]\n",
            " [2.10197564e+01 7.56343510e-01 6.39104920e-01 2.25815081e-01\n",
            "  1.66716490e+00]]\n",
            "[[3.00155004e-01 3.91418083e-01 3.54034305e-01 4.85258204e-01\n",
            "  5.12937776e-02]\n",
            " [2.96587948e-02 2.20254762e-02 1.12352590e-02 2.05099978e-01\n",
            "  5.14011658e-01]\n",
            " [1.43247823e-02 5.33976113e-02 4.40095231e-01 6.38171381e-01\n",
            "  3.29819139e-01]\n",
            " [1.24715539e-01 8.03452687e-03 3.44019307e-01 1.36407818e-02\n",
            "  6.79702838e-02]\n",
            " [4.74752675e-04 7.14113860e-01 4.85839658e-01 2.16865636e-01\n",
            "  2.58716438e-01]]\n",
            "[[0.43308259 0.53668875 0.47623797 0.49772995 0.85719719]\n",
            " [0.97639604 0.86186309 0.82462171 0.96950141 0.57973452]\n",
            " [0.83824883 0.72935138 0.58447306 0.66648067 0.8803905 ]\n",
            " [0.17731136 0.01689023 0.95063869 0.74796612 0.69591389]\n",
            " [0.98372181 0.7276662  0.5776647  0.23040858 0.84438728]]\n"
          ],
          "name": "stdout"
        }
      ]
    },
    {
      "cell_type": "markdown",
      "metadata": {
        "id": "LeolkUPHwXNc",
        "colab_type": "text"
      },
      "source": [
        "###iv)Slicing and Iterating of numpy array"
      ]
    },
    {
      "cell_type": "markdown",
      "metadata": {
        "id": "ZbmFkJBJwwlr",
        "colab_type": "text"
      },
      "source": [
        "slicing"
      ]
    },
    {
      "cell_type": "code",
      "metadata": {
        "id": "YydinwGwwjCJ",
        "colab_type": "code",
        "colab": {
          "base_uri": "https://localhost:8080/",
          "height": 34
        },
        "outputId": "442debc5-c59c-45b8-cc92-1943f1bef8a7"
      },
      "source": [
        " import numpy as np \n",
        "arr=np.array([1,2,3,4,5,6,7])\n",
        "print(arr[1:6])"
      ],
      "execution_count": null,
      "outputs": [
        {
          "output_type": "stream",
          "text": [
            "[2 3 4 5 6]\n"
          ],
          "name": "stdout"
        }
      ]
    },
    {
      "cell_type": "markdown",
      "metadata": {
        "id": "pikt3T2jw5S9",
        "colab_type": "text"
      },
      "source": [
        "Iterating"
      ]
    },
    {
      "cell_type": "code",
      "metadata": {
        "id": "oGtbwiRHw7mK",
        "colab_type": "code",
        "colab": {
          "base_uri": "https://localhost:8080/",
          "height": 136
        },
        "outputId": "94956e8f-3077-4ff1-f10e-be65b7ae4bd4"
      },
      "source": [
        " for x in arr:\n",
        "  print(x)"
      ],
      "execution_count": null,
      "outputs": [
        {
          "output_type": "stream",
          "text": [
            "1\n",
            "2\n",
            "3\n",
            "4\n",
            "5\n",
            "6\n",
            "7\n"
          ],
          "name": "stdout"
        }
      ]
    },
    {
      "cell_type": "markdown",
      "metadata": {
        "id": "k2wdmrMgxasY",
        "colab_type": "text"
      },
      "source": [
        "###v)Matrix operations on Numpy arrays"
      ]
    },
    {
      "cell_type": "code",
      "metadata": {
        "id": "S5TecQ15xgGX",
        "colab_type": "code",
        "colab": {
          "base_uri": "https://localhost:8080/",
          "height": 119
        },
        "outputId": "d067de9f-57ea-4106-af19-2b158bd16f2a"
      },
      "source": [
        " import numpy as np \n",
        "s=np.array([[1,2],[3,4]])\n",
        "t=np.array([[5,6],[7,8]])\n",
        "print(np.add(s,t))\n",
        "print(np.subtract(s,t))\n",
        "print(np.divide(s,t))"
      ],
      "execution_count": null,
      "outputs": [
        {
          "output_type": "stream",
          "text": [
            "[[ 6  8]\n",
            " [10 12]]\n",
            "[[-4 -4]\n",
            " [-4 -4]]\n",
            "[[0.2        0.33333333]\n",
            " [0.42857143 0.5       ]]\n"
          ],
          "name": "stdout"
        }
      ]
    }
  ]
}