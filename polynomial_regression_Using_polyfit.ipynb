{
  "nbformat": 4,
  "nbformat_minor": 0,
  "metadata": {
    "kernelspec": {
      "display_name": "Python 3",
      "language": "python",
      "name": "python3"
    },
    "language_info": {
      "codemirror_mode": {
        "name": "ipython",
        "version": 3
      },
      "file_extension": ".py",
      "mimetype": "text/x-python",
      "name": "python",
      "nbconvert_exporter": "python",
      "pygments_lexer": "ipython3",
      "version": "3.8.3"
    },
    "colab": {
      "name": "polynomial regression- Using polyfit.ipynb",
      "provenance": [],
      "include_colab_link": true
    }
  },
  "cells": [
    {
      "cell_type": "markdown",
      "metadata": {
        "id": "view-in-github",
        "colab_type": "text"
      },
      "source": [
        "<a href=\"https://colab.research.google.com/github/19PA1A02A3/AI-Lab/blob/master/polynomial_regression_Using_polyfit.ipynb\" target=\"_parent\"><img src=\"https://colab.research.google.com/assets/colab-badge.svg\" alt=\"Open In Colab\"/></a>"
      ]
    },
    {
      "cell_type": "markdown",
      "metadata": {
        "id": "JqtEz7K-inQu"
      },
      "source": [
        "# Polynomial Regression"
      ]
    },
    {
      "cell_type": "markdown",
      "metadata": {
        "id": "QFVI974winQ1"
      },
      "source": [
        "## Import the packages and create two vectors."
      ]
    },
    {
      "cell_type": "code",
      "metadata": {
        "id": "6T6oe_P1inQ2"
      },
      "source": [
        "import matplotlib.pyplot as plt\n",
        "import numpy as np\n",
        "import pandas as pd\n",
        "x = np.array([0.0, 1.0, 2.0, 3.0,  4.0,  5.0])\n",
        "y = np.array([0.0, 0.8, 0.9, 0.1, -0.8, -1.0])"
      ],
      "execution_count": 1,
      "outputs": []
    },
    {
      "cell_type": "markdown",
      "metadata": {
        "id": "b5325-0hinQ2"
      },
      "source": [
        "\n",
        "###  To specify the fit to 1st degree, we specify one in polyfit function."
      ]
    },
    {
      "cell_type": "code",
      "metadata": {
        "id": "U64ZflSOinQ2",
        "outputId": "95602128-ede6-43f0-8a22-6d7a8969c185",
        "colab": {
          "base_uri": "https://localhost:8080/"
        }
      },
      "source": [
        "z = np.polyfit(x, y,1) \n",
        "z"
      ],
      "execution_count": 2,
      "outputs": [
        {
          "output_type": "execute_result",
          "data": {
            "text/plain": [
              "array([-0.30285714,  0.75714286])"
            ]
          },
          "metadata": {
            "tags": []
          },
          "execution_count": 2
        }
      ]
    },
    {
      "cell_type": "code",
      "metadata": {
        "id": "7vN18ytKinQ4",
        "outputId": "7e23b092-0c1e-4184-bb40-b109524c9ed0",
        "colab": {
          "base_uri": "https://localhost:8080/"
        }
      },
      "source": [
        "# A convenience class, used to encapsulate “natural” operations on polynomials\n",
        "# so that said operations may take on their customary form in code\n",
        "p = np.poly1d(z)\n",
        "print(p)"
      ],
      "execution_count": 3,
      "outputs": [
        {
          "output_type": "stream",
          "text": [
            " \n",
            "-0.3029 x + 0.7571\n"
          ],
          "name": "stdout"
        }
      ]
    },
    {
      "cell_type": "code",
      "metadata": {
        "id": "6XCY5_cCinQ4",
        "outputId": "38d3c481-f4b2-4cd4-8d6f-ac2a913bbc7f",
        "colab": {
          "base_uri": "https://localhost:8080/",
          "height": 282
        }
      },
      "source": [
        "plt.plot(x, y,'.')\n",
        "plt.plot(x, p(x),'--')"
      ],
      "execution_count": 4,
      "outputs": [
        {
          "output_type": "execute_result",
          "data": {
            "text/plain": [
              "[<matplotlib.lines.Line2D at 0x7fd966166350>]"
            ]
          },
          "metadata": {
            "tags": []
          },
          "execution_count": 4
        },
        {
          "output_type": "display_data",
          "data": {
            "image/png": "[encoded data removed]",
            "text/plain": [
              "<Figure size 432x288 with 1 Axes>"
            ]
          },
          "metadata": {
            "tags": [],
            "needs_background": "light"
          }
        }
      ]
    },
    {
      "cell_type": "markdown",
      "metadata": {
        "id": "pOq11zVoinQ4"
      },
      "source": [
        "# 2nd degree polynomial "
      ]
    },
    {
      "cell_type": "markdown",
      "metadata": {
        "id": "RyM6MGfLinQ5"
      },
      "source": [
        "\n",
        "### To specify the fit to 2nd degree, we specify two in polyfit function."
      ]
    },
    {
      "cell_type": "code",
      "metadata": {
        "id": "JV9K-SpFinQ5",
        "outputId": "0ae4e3f4-d5ce-43ca-f451-efa555f691c1",
        "colab": {
          "base_uri": "https://localhost:8080/"
        }
      },
      "source": [
        "z = np.polyfit(x, y,2)\n",
        "z"
      ],
      "execution_count": 5,
      "outputs": [
        {
          "output_type": "execute_result",
          "data": {
            "text/plain": [
              "array([-0.16071429,  0.50071429,  0.22142857])"
            ]
          },
          "metadata": {
            "tags": []
          },
          "execution_count": 5
        }
      ]
    },
    {
      "cell_type": "code",
      "metadata": {
        "id": "UfiKQqIVinQ5",
        "outputId": "1484ae95-4d1f-4589-f22f-73cbb137a6fc",
        "colab": {
          "base_uri": "https://localhost:8080/"
        }
      },
      "source": [
        "# A convenience class, used to encapsulate “natural” operations on polynomials\n",
        "# so that said operations may take on their customary form in code\n",
        "p = np.poly1d(z)\n",
        "print(p)"
      ],
      "execution_count": 6,
      "outputs": [
        {
          "output_type": "stream",
          "text": [
            "         2\n",
            "-0.1607 x + 0.5007 x + 0.2214\n"
          ],
          "name": "stdout"
        }
      ]
    },
    {
      "cell_type": "code",
      "metadata": {
        "id": "8hk5BEuCinQ6",
        "outputId": "777bf03e-8a39-4fca-8d78-b54fe189fc06",
        "colab": {
          "base_uri": "https://localhost:8080/",
          "height": 285
        }
      },
      "source": [
        "plt.plot(x, y,'.')\n",
        "plt.plot(x, p(x),'--')"
      ],
      "execution_count": 7,
      "outputs": [
        {
          "output_type": "execute_result",
          "data": {
            "text/plain": [
              "[<matplotlib.lines.Line2D at 0x7fd965c48e90>]"
            ]
          },
          "metadata": {
            "tags": []
          },
          "execution_count": 7
        },
        {
          "output_type": "display_data",
          "data": {
            "image/png": "[encoded data removed]",
            "text/plain": [
              "<Figure size 432x288 with 1 Axes>"
            ]
          },
          "metadata": {
            "tags": [],
            "needs_background": "light"
          }
        }
      ]
    },
    {
      "cell_type": "markdown",
      "metadata": {
        "id": "DE-z1EZ7inQ6"
      },
      "source": [
        "# 3rd degree polynomial "
      ]
    },
    {
      "cell_type": "markdown",
      "metadata": {
        "id": "7LYG_qvJinQ6"
      },
      "source": [
        "### To specify the fit to 3rd degree, we specify three in polyfit function."
      ]
    },
    {
      "cell_type": "code",
      "metadata": {
        "id": "FeLIOk9minQ7",
        "outputId": "5f7f1533-2acf-46b9-94a5-c755d431c130",
        "colab": {
          "base_uri": "https://localhost:8080/"
        }
      },
      "source": [
        "z = np.polyfit(x, y,3)\n",
        "z"
      ],
      "execution_count": 8,
      "outputs": [
        {
          "output_type": "execute_result",
          "data": {
            "text/plain": [
              "array([ 0.08703704, -0.81349206,  1.69312169, -0.03968254])"
            ]
          },
          "metadata": {
            "tags": []
          },
          "execution_count": 8
        }
      ]
    },
    {
      "cell_type": "code",
      "metadata": {
        "id": "YpTP6cejinQ7",
        "outputId": "cdb3c4d2-0d00-43b7-a1cf-7f58e4760155",
        "colab": {
          "base_uri": "https://localhost:8080/"
        }
      },
      "source": [
        "# A convenience class, used to encapsulate “natural” operations on polynomials\n",
        "# so that said operations may take on their customary form in code\n",
        "p = np.poly1d(z)\n",
        "print(p)"
      ],
      "execution_count": 9,
      "outputs": [
        {
          "output_type": "stream",
          "text": [
            "         3          2\n",
            "0.08704 x - 0.8135 x + 1.693 x - 0.03968\n"
          ],
          "name": "stdout"
        }
      ]
    },
    {
      "cell_type": "code",
      "metadata": {
        "id": "2OHFilP-inQ7",
        "outputId": "e04f88bc-bbd7-48bc-ce23-3b0654e000c3",
        "colab": {
          "base_uri": "https://localhost:8080/",
          "height": 282
        }
      },
      "source": [
        "plt.plot(x, y,'.')\n",
        "plt.plot(x, p(x),'--')"
      ],
      "execution_count": 14,
      "outputs": [
        {
          "output_type": "execute_result",
          "data": {
            "text/plain": [
              "[<matplotlib.lines.Line2D at 0x7fd965aaf190>]"
            ]
          },
          "metadata": {
            "tags": []
          },
          "execution_count": 14
        },
        {
          "output_type": "display_data",
          "data": {
            "image/png": "[encoded data removed]",
            "text/plain": [
              "<Figure size 432x288 with 1 Axes>"
            ]
          },
          "metadata": {
            "tags": [],
            "needs_background": "light"
          }
        }
      ]
    },
    {
      "cell_type": "markdown",
      "metadata": {
        "id": "LerUw52NinQ7"
      },
      "source": [
        "# 4th degree polynomial "
      ]
    },
    {
      "cell_type": "markdown",
      "metadata": {
        "id": "9O9idtRoinQ8"
      },
      "source": [
        "### To specify the fit to 4th degree, we specify four in polyfit function."
      ]
    },
    {
      "cell_type": "code",
      "metadata": {
        "id": "SKc9bEH3inQ8",
        "outputId": "77ca70b0-5af8-4e8d-9614-ea1afc7f131f",
        "colab": {
          "base_uri": "https://localhost:8080/"
        }
      },
      "source": [
        "z = np.polyfit(x, y,4)\n",
        "z"
      ],
      "execution_count": 11,
      "outputs": [
        {
          "output_type": "execute_result",
          "data": {
            "text/plain": [
              "array([ 0.02083333, -0.1212963 , -0.17361111,  1.0978836 , -0.00396825])"
            ]
          },
          "metadata": {
            "tags": []
          },
          "execution_count": 11
        }
      ]
    },
    {
      "cell_type": "code",
      "metadata": {
        "id": "kd2TEOXXinQ8",
        "outputId": "7bc5f35c-8c0e-47f2-9fb4-f0daed6df93e",
        "colab": {
          "base_uri": "https://localhost:8080/"
        }
      },
      "source": [
        "# A convenience class, used to encapsulate “natural” operations on polynomials\n",
        "# so that said operations may take on their customary form in code\n",
        "p = np.poly1d(z)\n",
        "print(p)"
      ],
      "execution_count": 12,
      "outputs": [
        {
          "output_type": "stream",
          "text": [
            "         4          3          2\n",
            "0.02083 x - 0.1213 x - 0.1736 x + 1.098 x - 0.003968\n"
          ],
          "name": "stdout"
        }
      ]
    },
    {
      "cell_type": "code",
      "metadata": {
        "id": "cPft5wvIinQ8",
        "outputId": "665df2a0-7f8c-4408-8bc1-e932b7285fd5",
        "colab": {
          "base_uri": "https://localhost:8080/",
          "height": 282
        }
      },
      "source": [
        "plt.plot(x, y,'.')\n",
        "plt.plot(x, p(x),'--')"
      ],
      "execution_count": 13,
      "outputs": [
        {
          "output_type": "execute_result",
          "data": {
            "text/plain": [
              "[<matplotlib.lines.Line2D at 0x7fd965b8fed0>]"
            ]
          },
          "metadata": {
            "tags": []
          },
          "execution_count": 13
        },
        {
          "output_type": "display_data",
          "data": {
            "image/png": "[encoded data removed]",
            "text/plain": [
              "<Figure size 432x288 with 1 Axes>"
            ]
          },
          "metadata": {
            "tags": [],
            "needs_background": "light"
          }
        }
      ]
    },
    {
      "cell_type": "markdown",
      "metadata": {
        "id": "hmi3sGCvinQ8"
      },
      "source": [
        "# Polynomial of degree 2 is fitting the data properly"
      ]
    }
  ]
}